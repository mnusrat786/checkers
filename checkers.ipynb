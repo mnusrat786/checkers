{
 "cells": [
  {
   "cell_type": "code",
   "execution_count": 7,
   "metadata": {
    "id": "Y_uPnjCsFBh8",
    "outputId": "f0c93368-77ae-4de9-f9de-391299b00184"
   },
   "outputs": [],
   "source": [
    "import pygame"
   ]
  },
  {
   "cell_type": "markdown",
   "metadata": {
    "id": "9PKA-WinFBiE"
   },
   "source": [
    "### Variables for Drawing Board"
   ]
  },
  {
   "cell_type": "code",
   "execution_count": 8,
   "metadata": {
    "id": "3kYRCRcBFBiH"
   },
   "outputs": [],
   "source": [
    "WIDTH,HEIGHT = 600, 600\n",
    "ROWS,COLUMNS = 8, 8\n",
    "FPS = 60\n",
    "SQUARE_SIZE = WIDTH//COLUMNS\n",
    "\n",
    "WHITE = (255,255,255)\n",
    "BLACK = (0,0,0)\n",
    "BLUE = (0,0,255)\n",
    "GREY = (128,128,128)"
   ]
  },
  {
   "cell_type": "markdown",
   "metadata": {
    "id": "Pk28-IRJFBiJ"
   },
   "source": [
    "### Checker Board Representation in 2D-List"
   ]
  },
  {
   "cell_type": "code",
   "execution_count": 9,
   "metadata": {
    "id": "kap5btAvFBiK"
   },
   "outputs": [],
   "source": [
    "Board_List = [\n",
    "                ['0','W1','0','W2','0','W3','0','W4'], # here W represents the White piece\n",
    "                ['W5','0','W6','0','W7','0','W8','0'],\n",
    "                ['0','W9','0','W10','0','W11','0','W12'],\n",
    "                ['0','0','0','0','0','0','0','0'],\n",
    "                ['0','0','0','0','0','0','0','0'],\n",
    "                ['B9','0','B10','0','B11','0','B12','0'], # B represents the Black piece\n",
    "                ['0','B5','0','B6','0','B7','0','B8'],\n",
    "                ['B1','0','B2','0','B3','0','B4','0']\n",
    "            ]"
   ]
  },
  {
   "cell_type": "markdown",
   "metadata": {
    "id": "fEOyQ1xhFBiL"
   },
   "source": [
    "### Piece Class - Draw a Piece(White or BLUE Piece) on the Board."
   ]
  },
  {
   "cell_type": "code",
   "execution_count": 10,
   "metadata": {
    "id": "OvNdesUbFBiL"
   },
   "outputs": [],
   "source": [
    "class Piece:\n",
    "    Padding_ = 10\n",
    "    Outline_ = 2\n",
    "\n",
    "    def __init__(self, row, col, color):\n",
    "        self.row = row\n",
    "        self.col = col\n",
    "        self.color = color\n",
    "        self.x = 0\n",
    "        self.y = 0\n",
    "        self.calc_pos()\n",
    "\n",
    "    def calc_pos(self):\n",
    "        self.x = SQUARE_SIZE * self.col + SQUARE_SIZE // 2\n",
    "        self.y = SQUARE_SIZE * self.row + SQUARE_SIZE // 2\n",
    "    \n",
    "    def draw(self, win):\n",
    "        radius = SQUARE_SIZE//2 - self.Padding_\n",
    "        pygame.draw.circle(win, GREY, (self.x, self.y), radius + self.Outline_)\n",
    "        pygame.draw.circle(win, self.color, (self.x, self.y), radius)\n",
    "\n",
    "    def __repr__(self):\n",
    "        return str(self.color)"
   ]
  },
  {
   "cell_type": "markdown",
   "metadata": {
    "id": "nvYNRvTUFBiN"
   },
   "source": [
    "### Board Class- Draw Checker Board and Pieces(Using the Piece Class)"
   ]
  },
  {
   "cell_type": "code",
   "execution_count": 11,
   "metadata": {
    "id": "eGoxRv6zFBiO"
   },
   "outputs": [],
   "source": [
    "class Board:\n",
    "    def __init__(self):\n",
    "        self.board = []\n",
    "        self.create_board(Board_List)\n",
    "        \n",
    "    def draw_square(self, win):\n",
    "        win.fill(BLACK)\n",
    "        for row in range(ROWS):\n",
    "            for col in range(row % 2, COLUMNS, 2):\n",
    "                pygame.draw.rect(win, GREY, (row*SQUARE_SIZE, col *SQUARE_SIZE, SQUARE_SIZE, SQUARE_SIZE))\n",
    "                \n",
    "    def create_board(self,board_List):\n",
    "        for row in range(ROWS):\n",
    "            self.board.append([])\n",
    "            for col in range(COLUMNS):\n",
    "                if col % 2 == ((row +  1) % 2):\n",
    "                    if(board_List[row][col][0] == \"W\"):\n",
    "                        self.board[row].append(Piece(row, col, WHITE))\n",
    "                    elif(board_List[row][col][0] == \"B\"):\n",
    "                        self.board[row].append(Piece(row, col, BLUE))\n",
    "                    else:\n",
    "                        self.board[row].append(0)\n",
    "                else:\n",
    "                    self.board[row].append(0)\n",
    "                    \n",
    "    def draw(self, win,board_List):\n",
    "        self.draw_square(win)\n",
    "        for row in range(ROWS):\n",
    "            for col in range(COLUMNS):\n",
    "                piece = self.board[row][col]\n",
    "                if piece != 0:\n",
    "                    piece.draw(win)"
   ]
  },
  {
   "cell_type": "markdown",
   "metadata": {
    "id": "CLpcf2iCFBiP"
   },
   "source": [
    "### Main Function"
   ]
  },
  {
   "cell_type": "code",
   "execution_count": 12,
   "metadata": {
    "id": "RVLiZd-xFBiQ"
   },
   "outputs": [],
   "source": [
    "def main():\n",
    "    WIN = pygame.display.set_mode((WIDTH,HEIGHT))\n",
    "    pygame.display.set_caption(\"Checker Board\")\n",
    "    board = Board()\n",
    "    run = True\n",
    "    clock = pygame.time.Clock()\n",
    "    while(run):\n",
    "        clock.tick(FPS)\n",
    "        pass\n",
    "        for event in pygame.event.get():\n",
    "            if(event.type == pygame.QUIT):\n",
    "                run = False\n",
    "        board.draw(WIN,Board_List)             # pass the Game State as a 2D-List in (board.draw) function. It will convert\n",
    "                                               # that List based game state to Checker Board visual represnetation.\n",
    "        pygame.display.update()\n",
    "    pygame.quit()\n",
    "    \n",
    "main()"
   ]
  },
  {
   "cell_type": "code",
   "execution_count": null,
   "metadata": {
    "id": "N2EwEcK3FBiR"
   },
   "outputs": [],
   "source": []
  }
 ],
 "metadata": {
  "colab": {
   "name": "AI Assignment 4.ipynb",
   "provenance": []
  },
  "kernelspec": {
   "display_name": "Python 3 (ipykernel)",
   "language": "python",
   "name": "python3"
  },
  "language_info": {
   "codemirror_mode": {
    "name": "ipython",
    "version": 3
   },
   "file_extension": ".py",
   "mimetype": "text/x-python",
   "name": "python",
   "nbconvert_exporter": "python",
   "pygments_lexer": "ipython3",
   "version": "3.8.10"
  }
 },
 "nbformat": 4,
 "nbformat_minor": 1
}
